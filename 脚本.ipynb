{
 "cells": [
  {
   "cell_type": "code",
   "execution_count": 7,
   "metadata": {},
   "outputs": [
    {
     "name": "stdout",
     "output_type": "stream",
     "text": [
      "200\n"
     ]
    }
   ],
   "source": [
    "import requests\n",
    "url = 'http://fuwu.rsj.beijing.gov.cn/nwesqintegralpublic/settlePerson/tablePage?name=&rows=10&page=0'\n",
    "url2 = 'http://fuwu.rsj.beijing.gov.cn/nwesqintegralpublic/settlePerson/settlePersonDetails?id=21'\n",
    "res = requests.get(url2)\n",
    "print(res.status_code)"
   ]
  },
  {
   "cell_type": "code",
   "execution_count": 43,
   "metadata": {
    "scrolled": true
   },
   "outputs": [],
   "source": [
    "from bs4 import BeautifulSoup\n",
    "\n",
    "page = requests.get(url2)\n",
    "soup = BeautifulSoup(page.content, 'lxml')\n",
    "\n",
    "data = soup.select('body > p > span')"
   ]
  },
  {
   "cell_type": "code",
   "execution_count": 128,
   "metadata": {
    "collapsed": true
   },
   "outputs": [],
   "source": [
    "i = 1\n",
    "url2 = 'http://fuwu.rsj.beijing.gov.cn/nwesqintegralpublic/settlePerson/settlePersonDetails?id={}'.format(str(i))"
   ]
  },
  {
   "cell_type": "code",
   "execution_count": 129,
   "metadata": {},
   "outputs": [
    {
     "data": {
      "text/plain": [
       "'http://fuwu.rsj.beijing.gov.cn/nwesqintegralpublic/settlePerson/settlePersonDetails?id=1'"
      ]
     },
     "execution_count": 129,
     "metadata": {},
     "output_type": "execute_result"
    }
   ],
   "source": [
    "url2"
   ]
  },
  {
   "cell_type": "code",
   "execution_count": 138,
   "metadata": {},
   "outputs": [
    {
     "data": {
      "text/plain": [
       "[1]"
      ]
     },
     "execution_count": 138,
     "metadata": {},
     "output_type": "execute_result"
    }
   ],
   "source": [
    "[i for i in range(1,2)]"
   ]
  },
  {
   "cell_type": "code",
   "execution_count": null,
   "metadata": {
    "collapsed": true
   },
   "outputs": [],
   "source": [
    "for i in range(2,6032):\n",
    "    url2 = 'http://fuwu.rsj.beijing.gov.cn/nwesqintegralpublic/settlePerson/settlePersonDetails?id={}'.format(str(i))"
   ]
  },
  {
   "cell_type": "code",
   "execution_count": null,
   "metadata": {
    "collapsed": true
   },
   "outputs": [],
   "source": []
  },
  {
   "cell_type": "code",
   "execution_count": 139,
   "metadata": {},
   "outputs": [],
   "source": [
    "# for i in range()\n",
    "score_df = []\n",
    "for i in range(2,6034):\n",
    "    url = 'http://fuwu.rsj.beijing.gov.cn/nwesqintegralpublic/settlePerson/settlePersonDetails?id={}'.format(str(i))\n",
    "    page = requests.get(url)\n",
    "    soup = BeautifulSoup(page.content, 'lxml')\n",
    "    score_list = []\n",
    "\n",
    "    info = soup.select('body > p')[1].get_text().split('\\xa0\\xa0\\xa0')\n",
    "\n",
    "    score_list.append(info[1][3:])\n",
    "    score_list.append(info[0][5:])\n",
    "    score = soup.select('body > p > span')\n",
    "    score_list.append(float(score[1].get_text()))\n",
    "\n",
    "    score_det = soup.select('body > table > tbody > tr')\n",
    "\n",
    "\n",
    "    for i in range(1,len(score_det)):\n",
    "        score_items = score_det[i].get_text().split('\\n')[3]\n",
    "        score_items = float(score_items)\n",
    "        score_list.append(score_items)\n",
    "    score_df.append(score_list)"
   ]
  },
  {
   "cell_type": "code",
   "execution_count": 140,
   "metadata": {},
   "outputs": [],
   "source": [
    "from pandas.core.frame import DataFrame\n",
    "score_df = DataFrame(score_df)"
   ]
  },
  {
   "cell_type": "code",
   "execution_count": 141,
   "metadata": {},
   "outputs": [
    {
     "data": {
      "text/html": [
       "<div>\n",
       "<style>\n",
       "    .dataframe thead tr:only-child th {\n",
       "        text-align: right;\n",
       "    }\n",
       "\n",
       "    .dataframe thead th {\n",
       "        text-align: left;\n",
       "    }\n",
       "\n",
       "    .dataframe tbody tr th {\n",
       "        vertical-align: top;\n",
       "    }\n",
       "</style>\n",
       "<table border=\"1\" class=\"dataframe\">\n",
       "  <thead>\n",
       "    <tr style=\"text-align: right;\">\n",
       "      <th></th>\n",
       "      <th>0</th>\n",
       "      <th>1</th>\n",
       "      <th>2</th>\n",
       "      <th>3</th>\n",
       "      <th>4</th>\n",
       "      <th>5</th>\n",
       "      <th>6</th>\n",
       "      <th>7</th>\n",
       "      <th>8</th>\n",
       "      <th>9</th>\n",
       "      <th>10</th>\n",
       "      <th>11</th>\n",
       "      <th>12</th>\n",
       "    </tr>\n",
       "  </thead>\n",
       "  <tbody>\n",
       "    <tr>\n",
       "      <th>0</th>\n",
       "      <td>彭俊</td>\n",
       "      <td>北京金诚同达律师事务所</td>\n",
       "      <td>124.17</td>\n",
       "      <td>60.50</td>\n",
       "      <td>11.67</td>\n",
       "      <td>26.0</td>\n",
       "      <td>0.00</td>\n",
       "      <td>0.0</td>\n",
       "      <td>0.0</td>\n",
       "      <td>6.0</td>\n",
       "      <td>20.0</td>\n",
       "      <td>0.0</td>\n",
       "      <td>0.0</td>\n",
       "    </tr>\n",
       "    <tr>\n",
       "      <th>1</th>\n",
       "      <td>王硕</td>\n",
       "      <td>中交第四公路工程局有限公司</td>\n",
       "      <td>122.70</td>\n",
       "      <td>62.25</td>\n",
       "      <td>16.66</td>\n",
       "      <td>26.0</td>\n",
       "      <td>-10.21</td>\n",
       "      <td>4.0</td>\n",
       "      <td>0.0</td>\n",
       "      <td>4.0</td>\n",
       "      <td>20.0</td>\n",
       "      <td>0.0</td>\n",
       "      <td>0.0</td>\n",
       "    </tr>\n",
       "    <tr>\n",
       "      <th>2</th>\n",
       "      <td>李敏</td>\n",
       "      <td>中海油田服务股份有限公司北京分公司</td>\n",
       "      <td>120.62</td>\n",
       "      <td>61.00</td>\n",
       "      <td>14.79</td>\n",
       "      <td>26.0</td>\n",
       "      <td>-1.17</td>\n",
       "      <td>0.0</td>\n",
       "      <td>0.0</td>\n",
       "      <td>0.0</td>\n",
       "      <td>20.0</td>\n",
       "      <td>0.0</td>\n",
       "      <td>0.0</td>\n",
       "    </tr>\n",
       "    <tr>\n",
       "      <th>3</th>\n",
       "      <td>王强</td>\n",
       "      <td>中国石油天然气股份有限公司管道北京输油气分公司</td>\n",
       "      <td>119.25</td>\n",
       "      <td>64.50</td>\n",
       "      <td>20.25</td>\n",
       "      <td>10.5</td>\n",
       "      <td>0.00</td>\n",
       "      <td>4.0</td>\n",
       "      <td>0.0</td>\n",
       "      <td>0.0</td>\n",
       "      <td>20.0</td>\n",
       "      <td>0.0</td>\n",
       "      <td>0.0</td>\n",
       "    </tr>\n",
       "    <tr>\n",
       "      <th>4</th>\n",
       "      <td>祁金中</td>\n",
       "      <td>央视动漫集团有限公司</td>\n",
       "      <td>119.16</td>\n",
       "      <td>63.75</td>\n",
       "      <td>15.91</td>\n",
       "      <td>26.0</td>\n",
       "      <td>-10.50</td>\n",
       "      <td>4.0</td>\n",
       "      <td>0.0</td>\n",
       "      <td>0.0</td>\n",
       "      <td>20.0</td>\n",
       "      <td>0.0</td>\n",
       "      <td>0.0</td>\n",
       "    </tr>\n",
       "  </tbody>\n",
       "</table>\n",
       "</div>"
      ],
      "text/plain": [
       "    0                         1       2      3      4     5      6    7    8   \\\n",
       "0   彭俊              北京金诚同达律师事务所   124.17  60.50  11.67  26.0   0.00  0.0  0.0   \n",
       "1   王硕            中交第四公路工程局有限公司   122.70  62.25  16.66  26.0 -10.21  4.0  0.0   \n",
       "2   李敏        中海油田服务股份有限公司北京分公司   120.62  61.00  14.79  26.0  -1.17  0.0  0.0   \n",
       "3   王强  中国石油天然气股份有限公司管道北京输油气分公司   119.25  64.50  20.25  10.5   0.00  4.0  0.0   \n",
       "4  祁金中               央视动漫集团有限公司   119.16  63.75  15.91  26.0 -10.50  4.0  0.0   \n",
       "\n",
       "    9     10   11   12  \n",
       "0  6.0  20.0  0.0  0.0  \n",
       "1  4.0  20.0  0.0  0.0  \n",
       "2  0.0  20.0  0.0  0.0  \n",
       "3  0.0  20.0  0.0  0.0  \n",
       "4  0.0  20.0  0.0  0.0  "
      ]
     },
     "execution_count": 141,
     "metadata": {},
     "output_type": "execute_result"
    }
   ],
   "source": [
    "score_df.head()"
   ]
  },
  {
   "cell_type": "code",
   "execution_count": 142,
   "metadata": {},
   "outputs": [],
   "source": [
    "score_df.columns = ['姓名',\n",
    "'单位名称',\n",
    "'分值',\n",
    "'合法稳定就业',\n",
    "'合法稳定住所',\n",
    "'教育背景',\t    \n",
    "'扣除取得学历（学位）期间累计的居住及就业分值',\t\n",
    "'职住区域',\t\n",
    "'创新创业',\t\n",
    "'纳税',\t    \n",
    "'年龄',    \n",
    "'荣誉表彰',\t\n",
    "'守法记录']"
   ]
  },
  {
   "cell_type": "code",
   "execution_count": 143,
   "metadata": {},
   "outputs": [
    {
     "data": {
      "text/html": [
       "<div>\n",
       "<style>\n",
       "    .dataframe thead tr:only-child th {\n",
       "        text-align: right;\n",
       "    }\n",
       "\n",
       "    .dataframe thead th {\n",
       "        text-align: left;\n",
       "    }\n",
       "\n",
       "    .dataframe tbody tr th {\n",
       "        vertical-align: top;\n",
       "    }\n",
       "</style>\n",
       "<table border=\"1\" class=\"dataframe\">\n",
       "  <thead>\n",
       "    <tr style=\"text-align: right;\">\n",
       "      <th></th>\n",
       "      <th>姓名</th>\n",
       "      <th>单位名称</th>\n",
       "      <th>分值</th>\n",
       "      <th>合法稳定就业</th>\n",
       "      <th>合法稳定住所</th>\n",
       "      <th>教育背景</th>\n",
       "      <th>扣除取得学历（学位）期间累计的居住及就业分值</th>\n",
       "      <th>职住区域</th>\n",
       "      <th>创新创业</th>\n",
       "      <th>纳税</th>\n",
       "      <th>年龄</th>\n",
       "      <th>荣誉表彰</th>\n",
       "      <th>守法记录</th>\n",
       "    </tr>\n",
       "  </thead>\n",
       "  <tbody>\n",
       "    <tr>\n",
       "      <th>0</th>\n",
       "      <td>彭俊</td>\n",
       "      <td>北京金诚同达律师事务所</td>\n",
       "      <td>124.17</td>\n",
       "      <td>60.50</td>\n",
       "      <td>11.67</td>\n",
       "      <td>26.0</td>\n",
       "      <td>0.00</td>\n",
       "      <td>0.0</td>\n",
       "      <td>0.0</td>\n",
       "      <td>6.0</td>\n",
       "      <td>20.0</td>\n",
       "      <td>0.0</td>\n",
       "      <td>0.0</td>\n",
       "    </tr>\n",
       "    <tr>\n",
       "      <th>1</th>\n",
       "      <td>王硕</td>\n",
       "      <td>中交第四公路工程局有限公司</td>\n",
       "      <td>122.70</td>\n",
       "      <td>62.25</td>\n",
       "      <td>16.66</td>\n",
       "      <td>26.0</td>\n",
       "      <td>-10.21</td>\n",
       "      <td>4.0</td>\n",
       "      <td>0.0</td>\n",
       "      <td>4.0</td>\n",
       "      <td>20.0</td>\n",
       "      <td>0.0</td>\n",
       "      <td>0.0</td>\n",
       "    </tr>\n",
       "    <tr>\n",
       "      <th>2</th>\n",
       "      <td>李敏</td>\n",
       "      <td>中海油田服务股份有限公司北京分公司</td>\n",
       "      <td>120.62</td>\n",
       "      <td>61.00</td>\n",
       "      <td>14.79</td>\n",
       "      <td>26.0</td>\n",
       "      <td>-1.17</td>\n",
       "      <td>0.0</td>\n",
       "      <td>0.0</td>\n",
       "      <td>0.0</td>\n",
       "      <td>20.0</td>\n",
       "      <td>0.0</td>\n",
       "      <td>0.0</td>\n",
       "    </tr>\n",
       "    <tr>\n",
       "      <th>3</th>\n",
       "      <td>王强</td>\n",
       "      <td>中国石油天然气股份有限公司管道北京输油气分公司</td>\n",
       "      <td>119.25</td>\n",
       "      <td>64.50</td>\n",
       "      <td>20.25</td>\n",
       "      <td>10.5</td>\n",
       "      <td>0.00</td>\n",
       "      <td>4.0</td>\n",
       "      <td>0.0</td>\n",
       "      <td>0.0</td>\n",
       "      <td>20.0</td>\n",
       "      <td>0.0</td>\n",
       "      <td>0.0</td>\n",
       "    </tr>\n",
       "    <tr>\n",
       "      <th>4</th>\n",
       "      <td>祁金中</td>\n",
       "      <td>央视动漫集团有限公司</td>\n",
       "      <td>119.16</td>\n",
       "      <td>63.75</td>\n",
       "      <td>15.91</td>\n",
       "      <td>26.0</td>\n",
       "      <td>-10.50</td>\n",
       "      <td>4.0</td>\n",
       "      <td>0.0</td>\n",
       "      <td>0.0</td>\n",
       "      <td>20.0</td>\n",
       "      <td>0.0</td>\n",
       "      <td>0.0</td>\n",
       "    </tr>\n",
       "  </tbody>\n",
       "</table>\n",
       "</div>"
      ],
      "text/plain": [
       "    姓名                      单位名称      分值  合法稳定就业  合法稳定住所  教育背景  \\\n",
       "0   彭俊              北京金诚同达律师事务所   124.17   60.50   11.67  26.0   \n",
       "1   王硕            中交第四公路工程局有限公司   122.70   62.25   16.66  26.0   \n",
       "2   李敏        中海油田服务股份有限公司北京分公司   120.62   61.00   14.79  26.0   \n",
       "3   王强  中国石油天然气股份有限公司管道北京输油气分公司   119.25   64.50   20.25  10.5   \n",
       "4  祁金中               央视动漫集团有限公司   119.16   63.75   15.91  26.0   \n",
       "\n",
       "   扣除取得学历（学位）期间累计的居住及就业分值  职住区域  创新创业   纳税    年龄  荣誉表彰  守法记录  \n",
       "0                    0.00   0.0   0.0  6.0  20.0   0.0   0.0  \n",
       "1                  -10.21   4.0   0.0  4.0  20.0   0.0   0.0  \n",
       "2                   -1.17   0.0   0.0  0.0  20.0   0.0   0.0  \n",
       "3                    0.00   4.0   0.0  0.0  20.0   0.0   0.0  \n",
       "4                  -10.50   4.0   0.0  0.0  20.0   0.0   0.0  "
      ]
     },
     "execution_count": 143,
     "metadata": {},
     "output_type": "execute_result"
    }
   ],
   "source": [
    "score_df.head()"
   ]
  },
  {
   "cell_type": "code",
   "execution_count": 144,
   "metadata": {
    "collapsed": true
   },
   "outputs": [],
   "source": [
    "score_df.to_csv('落户积分信息明细.csv',encoding='gbk')"
   ]
  },
  {
   "cell_type": "code",
   "execution_count": 146,
   "metadata": {},
   "outputs": [
    {
     "data": {
      "text/plain": [
       "2.857142857142857"
      ]
     },
     "execution_count": 146,
     "metadata": {},
     "output_type": "execute_result"
    }
   ],
   "source": [
    "40/14\n"
   ]
  },
  {
   "cell_type": "code",
   "execution_count": null,
   "metadata": {
    "collapsed": true
   },
   "outputs": [],
   "source": []
  },
  {
   "cell_type": "code",
   "execution_count": 115,
   "metadata": {},
   "outputs": [
    {
     "data": {
      "text/plain": [
       "['单位名称：中国石油天然气股份有限公司管道北京输油气分公司 ', '姓名：尚渊源']"
      ]
     },
     "execution_count": 115,
     "metadata": {},
     "output_type": "execute_result"
    }
   ],
   "source": [
    "soup.select('body > p')[1].get_text().split('\\xa0\\xa0\\xa0')"
   ]
  },
  {
   "cell_type": "code",
   "execution_count": null,
   "metadata": {
    "collapsed": true
   },
   "outputs": [],
   "source": []
  },
  {
   "cell_type": "code",
   "execution_count": 85,
   "metadata": {},
   "outputs": [
    {
     "name": "stdout",
     "output_type": "stream",
     "text": [
      "1\n",
      "2\n",
      "3\n",
      "4\n",
      "5\n",
      "6\n",
      "7\n",
      "8\n",
      "9\n",
      "10\n"
     ]
    }
   ],
   "source": [
    "score_list = []\n",
    "\n",
    "for i in range(1,len(score_det)):\n",
    "    print(i)\n",
    "    score_items = score_det[i].get_text().split('\\n')[3]\n",
    "    score_items = float(score_items)\n",
    "    score_list.append(score_items)\n"
   ]
  },
  {
   "cell_type": "code",
   "execution_count": 86,
   "metadata": {},
   "outputs": [
    {
     "name": "stdout",
     "output_type": "stream",
     "text": [
      "[64.5, 14.96, 15.0, 0.0, 4.0, 0.0, 0.0, 16.0, 0.0, 0.0]\n"
     ]
    }
   ],
   "source": [
    "print(score_list)"
   ]
  },
  {
   "cell_type": "code",
   "execution_count": null,
   "metadata": {
    "collapsed": true
   },
   "outputs": [],
   "source": [
    "body > table > tbody > tr"
   ]
  },
  {
   "cell_type": "code",
   "execution_count": 44,
   "metadata": {},
   "outputs": [],
   "source": [
    "data_det = soup.select('body > table > tbody > tr')"
   ]
  },
  {
   "cell_type": "code",
   "execution_count": 53,
   "metadata": {},
   "outputs": [
    {
     "data": {
      "text/plain": [
       "'\\n1\\n合法稳定就业\\n64.50 \\n'"
      ]
     },
     "execution_count": 53,
     "metadata": {},
     "output_type": "execute_result"
    }
   ],
   "source": [
    "data_det[1].get_text()"
   ]
  },
  {
   "cell_type": "code",
   "execution_count": 59,
   "metadata": {},
   "outputs": [
    {
     "data": {
      "text/plain": [
       "['', '1', '合法稳定就业', '64.50 ', '']"
      ]
     },
     "execution_count": 59,
     "metadata": {},
     "output_type": "execute_result"
    }
   ],
   "source": [
    "data_det[1].get_text().split('\\n')."
   ]
  },
  {
   "cell_type": "code",
   "execution_count": 52,
   "metadata": {
    "scrolled": true
   },
   "outputs": [
    {
     "data": {
      "text/plain": [
       "['1', '64', '50']"
      ]
     },
     "execution_count": 52,
     "metadata": {},
     "output_type": "execute_result"
    }
   ],
   "source": [
    "# for item in data_det:\n",
    "#     print(item.get_text())\n",
    "re.findall('\\d+',data_det[1].get_text())"
   ]
  },
  {
   "cell_type": "code",
   "execution_count": 40,
   "metadata": {},
   "outputs": [],
   "source": [
    "data2 = soup.select('body > p > span')"
   ]
  },
  {
   "cell_type": "code",
   "execution_count": 42,
   "metadata": {},
   "outputs": [
    {
     "data": {
      "text/plain": [
       "'114.46'"
      ]
     },
     "execution_count": 42,
     "metadata": {},
     "output_type": "execute_result"
    }
   ],
   "source": [
    "data2[1].get_text()"
   ]
  },
  {
   "cell_type": "code",
   "execution_count": 38,
   "metadata": {},
   "outputs": [
    {
     "ename": "TypeError",
     "evalue": "expected string or bytes-like object",
     "output_type": "error",
     "traceback": [
      "\u001b[1;31m---------------------------------------------------------------------------\u001b[0m",
      "\u001b[1;31mTypeError\u001b[0m                                 Traceback (most recent call last)",
      "\u001b[1;32m<ipython-input-38-460206c19e80>\u001b[0m in \u001b[0;36m<module>\u001b[1;34m()\u001b[0m\n\u001b[0;32m      1\u001b[0m \u001b[1;32mimport\u001b[0m \u001b[0mre\u001b[0m\u001b[1;33m\u001b[0m\u001b[0m\n\u001b[1;32m----> 2\u001b[1;33m \u001b[0mre\u001b[0m\u001b[1;33m.\u001b[0m\u001b[0mfindall\u001b[0m\u001b[1;33m(\u001b[0m\u001b[1;34m'\\d+'\u001b[0m\u001b[1;33m,\u001b[0m\u001b[0mdata2\u001b[0m\u001b[1;33m[\u001b[0m\u001b[1;36m1\u001b[0m\u001b[1;33m]\u001b[0m\u001b[1;33m)\u001b[0m\u001b[1;33m\u001b[0m\u001b[0m\n\u001b[0m",
      "\u001b[1;32mC:\\Users\\zhangmin503\\AppData\\Local\\Continuum\\Anaconda3\\lib\\re.py\u001b[0m in \u001b[0;36mfindall\u001b[1;34m(pattern, string, flags)\u001b[0m\n\u001b[0;32m    220\u001b[0m \u001b[1;33m\u001b[0m\u001b[0m\n\u001b[0;32m    221\u001b[0m     Empty matches are included in the result.\"\"\"\n\u001b[1;32m--> 222\u001b[1;33m     \u001b[1;32mreturn\u001b[0m \u001b[0m_compile\u001b[0m\u001b[1;33m(\u001b[0m\u001b[0mpattern\u001b[0m\u001b[1;33m,\u001b[0m \u001b[0mflags\u001b[0m\u001b[1;33m)\u001b[0m\u001b[1;33m.\u001b[0m\u001b[0mfindall\u001b[0m\u001b[1;33m(\u001b[0m\u001b[0mstring\u001b[0m\u001b[1;33m)\u001b[0m\u001b[1;33m\u001b[0m\u001b[0m\n\u001b[0m\u001b[0;32m    223\u001b[0m \u001b[1;33m\u001b[0m\u001b[0m\n\u001b[0;32m    224\u001b[0m \u001b[1;32mdef\u001b[0m \u001b[0mfinditer\u001b[0m\u001b[1;33m(\u001b[0m\u001b[0mpattern\u001b[0m\u001b[1;33m,\u001b[0m \u001b[0mstring\u001b[0m\u001b[1;33m,\u001b[0m \u001b[0mflags\u001b[0m\u001b[1;33m=\u001b[0m\u001b[1;36m0\u001b[0m\u001b[1;33m)\u001b[0m\u001b[1;33m:\u001b[0m\u001b[1;33m\u001b[0m\u001b[0m\n",
      "\u001b[1;31mTypeError\u001b[0m: expected string or bytes-like object"
     ]
    }
   ],
   "source": [
    "import re\n",
    "re.findall('\\d+',data2[1])"
   ]
  },
  {
   "cell_type": "code",
   "execution_count": 39,
   "metadata": {},
   "outputs": [
    {
     "data": {
      "text/plain": [
       "'114.46'"
      ]
     },
     "execution_count": 39,
     "metadata": {},
     "output_type": "execute_result"
    }
   ],
   "source": [
    "data2[1].get_text()"
   ]
  },
  {
   "cell_type": "code",
   "execution_count": 25,
   "metadata": {},
   "outputs": [
    {
     "ename": "TypeError",
     "evalue": "'generator' object is not callable",
     "output_type": "error",
     "traceback": [
      "\u001b[1;31m---------------------------------------------------------------------------\u001b[0m",
      "\u001b[1;31mTypeError\u001b[0m                                 Traceback (most recent call last)",
      "\u001b[1;32m<ipython-input-25-f1738064c8c9>\u001b[0m in \u001b[0;36m<module>\u001b[1;34m()\u001b[0m\n\u001b[0;32m      1\u001b[0m \u001b[1;32mfor\u001b[0m \u001b[0mitem\u001b[0m \u001b[1;32min\u001b[0m \u001b[0mdata2\u001b[0m\u001b[1;33m:\u001b[0m\u001b[1;33m\u001b[0m\u001b[0m\n\u001b[1;32m----> 2\u001b[1;33m     \u001b[0mprint\u001b[0m\u001b[1;33m(\u001b[0m\u001b[0mitem\u001b[0m\u001b[1;33m.\u001b[0m\u001b[0mstrings\u001b[0m\u001b[1;33m(\u001b[0m\u001b[1;33m)\u001b[0m\u001b[1;33m)\u001b[0m\u001b[1;33m\u001b[0m\u001b[0m\n\u001b[0m\u001b[0;32m      3\u001b[0m \u001b[1;31m#     result={\u001b[0m\u001b[1;33m\u001b[0m\u001b[1;33m\u001b[0m\u001b[0m\n\u001b[0;32m      4\u001b[0m \u001b[1;31m#         'title':item.get_text(),\u001b[0m\u001b[1;33m\u001b[0m\u001b[1;33m\u001b[0m\u001b[0m\n\u001b[0;32m      5\u001b[0m \u001b[1;31m#         'link':item.get('href')\u001b[0m\u001b[1;33m\u001b[0m\u001b[1;33m\u001b[0m\u001b[0m\n",
      "\u001b[1;31mTypeError\u001b[0m: 'generator' object is not callable"
     ]
    }
   ],
   "source": [
    "result = \n",
    "for item in data2:\n",
    "    print(item.strings())\n",
    "    result={\n",
    "        'title':item.get_text(),\n",
    "        'link':item.get('href')\n",
    "    }\n",
    "print(result)"
   ]
  },
  {
   "cell_type": "code",
   "execution_count": null,
   "metadata": {
    "collapsed": true
   },
   "outputs": [],
   "source": []
  },
  {
   "cell_type": "code",
   "execution_count": null,
   "metadata": {
    "collapsed": true
   },
   "outputs": [],
   "source": []
  },
  {
   "cell_type": "code",
   "execution_count": null,
   "metadata": {
    "collapsed": true
   },
   "outputs": [],
   "source": []
  },
  {
   "cell_type": "code",
   "execution_count": null,
   "metadata": {
    "collapsed": true
   },
   "outputs": [],
   "source": []
  },
  {
   "cell_type": "code",
   "execution_count": null,
   "metadata": {
    "collapsed": true
   },
   "outputs": [],
   "source": []
  },
  {
   "cell_type": "code",
   "execution_count": null,
   "metadata": {
    "collapsed": true
   },
   "outputs": [],
   "source": []
  },
  {
   "cell_type": "code",
   "execution_count": null,
   "metadata": {
    "collapsed": true
   },
   "outputs": [],
   "source": []
  },
  {
   "cell_type": "code",
   "execution_count": null,
   "metadata": {
    "collapsed": true
   },
   "outputs": [],
   "source": []
  },
  {
   "cell_type": "code",
   "execution_count": 10,
   "metadata": {},
   "outputs": [
    {
     "data": {
      "text/plain": [
       "6.729473330721441"
      ]
     },
     "execution_count": 10,
     "metadata": {},
     "output_type": "execute_result"
    }
   ],
   "source": [
    "(690+3127)/2102*63/17"
   ]
  },
  {
   "cell_type": "code",
   "execution_count": 4,
   "metadata": {},
   "outputs": [
    {
     "data": {
      "text/plain": [
       "179.08056042031524"
      ]
     },
     "execution_count": 4,
     "metadata": {},
     "output_type": "execute_result"
    }
   ],
   "source": [
    "6817/1142*30"
   ]
  },
  {
   "cell_type": "code",
   "execution_count": 11,
   "metadata": {},
   "outputs": [
    {
     "data": {
      "text/plain": [
       "2120.0"
      ]
     },
     "execution_count": 11,
     "metadata": {},
     "output_type": "execute_result"
    }
   ],
   "source": [
    "18.0+ 31.0+ 20.0+ 26.0+ 63.0+ 29.0+ 24.0+ 14.0+ 30.0+ 19.0+ 35.0+ 28.0+ 33.0+ 20.0+ 20.0+ 26.0+ 27.0+ 23.0+ 23.0+ 20.0+ 1.0+ 1.0+ 5.0+ 467.0+ 17.0+ 19.0+ 15.0+ 25.0+ 16.0+ 28.0+ 37.0+ 14.0+ 30.0+ 34.0+ 19.0+ 13.0+ 13.0+ 9.0+ 1.0+ 1.0+ 75.0+ 15.0+ 31.0+ 19.0+ 13.0+ 25.0+ 1.0+ 2.0+ 2.0+ 1.0+ 1.0+ 133.0+ 50.0+ 25.0+ 32.0+ 15.0+ 14.0+ 11.0+ 40.0+ 140.0+ 19.0+ 22.0+ 15.0+ 125.0"
   ]
  },
  {
   "cell_type": "code",
   "execution_count": 12,
   "metadata": {
    "collapsed": true
   },
   "outputs": [],
   "source": [
    "def cal_L_spark(create_dt,vlt,bp,usable_inv_qty,usable_inv_qty_pbs,act_qty,plan_qty,dts,sales,ave_demand,change_dts):\n",
    "    if type(create_dt)==datetime.datetime:\n",
    "        create_dt = create_dt.date()\n",
    "    if usable_inv_qty_pbs != 100000086:\n",
    "        cur_inv = usable_inv_qty_pbs\n",
    "    else:\n",
    "        cur_inv = usable_inv_qty\n",
    "    if change_dts is None:\n",
    "        change_dts = []\n",
    "    network_mark=0\n",
    "    order_qty = act_qty\n",
    "    post_inv = cur_inv+act_qty\n",
    "    post_inv_2  =cur_inv+plan_qty\n",
    "    demand_dict = dict(zip(dts,sales))\n",
    "    his_ave_demand = ave_demand\n",
    "    L_cur_inv = 0\n",
    "    L_order_qty = 0\n",
    "    L_post_inv = 0\n",
    "    L_post_inv_2 = 0\n",
    "    period = min((sale_end_date.date()-create_dt).days,150)\n",
    "    period = max(period,0)\n",
    "    for date in pd.date_range(start=create_dt.strftime('%Y-%m-%d'),periods = period,closed='left'):\n",
    "        L_cur_inv += 1\n",
    "        L_order_qty += 1\n",
    "        L_post_inv += 1\n",
    "        L_post_inv_2+=1\n",
    "        if date.strftime('%Y-%m-%d') in demand_dict.keys():\n",
    "            if date.strftime('%Y-%m-%d') in change_dts:\n",
    "                network_mark=1\n",
    "            day_demand = demand_dict[date.strftime('%Y-%m-%d')]\n",
    "            cur_inv -= day_demand #可用库存-销量\n",
    "            order_qty -= day_demand #采购实际到货 - 销量\n",
    "            post_inv -= day_demand #可用库存+购买 -销量\n",
    "            post_inv_2 -= day_demand\n",
    "            if order_qty <= 0:\n",
    "                L_order_qty -= 1 #购买实际到货可消耗的天数\n",
    "            if cur_inv <= 0:\n",
    "                L_cur_inv -= 1 #可用库存可消耗的天数\n",
    "            if post_inv <= 0: ##总体可消耗的天数\n",
    "                L_post_inv-=1\n",
    "            if post_inv_2 <= 0: ##总体可消耗的天数\n",
    "                L_post_inv_2-=1\n",
    "            if post_inv<=0 and post_inv_2 <= 0:\n",
    "                return [L_cur_inv - vlt,\n",
    "                        L_cur_inv - vlt-bp,\n",
    "                        L_order_qty,\n",
    "                        L_post_inv - vlt - bp,\n",
    "                        L_post_inv_2-vlt-bp,\n",
    "                        network_mark]\n",
    "    L_cur_inv_left = int(cur_inv / his_ave_demand) if cur_inv > 0 and his_ave_demand > 0.0 else 0\n",
    "    L_order_qty_left = int(order_qty / his_ave_demand) if order_qty > 0 and his_ave_demand > 0.0 else 0\n",
    "    L_post_inv_left = int(post_inv / his_ave_demand) if post_inv > 0 and his_ave_demand > 0.0 else 0\n",
    "    L_post_inv_2_left = int(post_inv_2 / his_ave_demand) if post_inv_2 > 0 and his_ave_demand > 0.0 else 0\n",
    "    return [          L_cur_inv + L_cur_inv_left - vlt,\n",
    "                      L_cur_inv + L_cur_inv_left - vlt - bp,\n",
    "                      L_order_qty + L_order_qty_left,\n",
    "                      L_post_inv + L_post_inv_left - vlt - bp,\n",
    "                      L_post_inv_2+L_post_inv_2_left-vlt-bp,\n",
    "                      network_mark]"
   ]
  },
  {
   "cell_type": "code",
   "execution_count": null,
   "metadata": {
    "collapsed": true
   },
   "outputs": [],
   "source": []
  },
  {
   "cell_type": "code",
   "execution_count": 13,
   "metadata": {
    "collapsed": true
   },
   "outputs": [],
   "source": [
    "create_dt = '2019-12-06'\n",
    "vlt = 10\n",
    "bp = 7\n",
    "usable_inv_qty = 690\n",
    "usable_inv_qty_pbs = 100000086\n",
    "act_qty = 3127\n",
    "plan_qty = 3127\n",
    "dts = ['2019-12-15',' 2019-12-16',' 2019-12-17',' 2019-12-18',' 2019-12-19',' 2019-12-20',' 2019-12-21',' 2019-12-22',' 2019-12-23',' 2019-12-24',' 2019-12-25',' 2019-12-26',' 2019-12-27',' 2019-12-28',' 2019-12-29',' 2019-12-30',' 2019-12-31',' 2020-01-01',' 2020-01-02',' 2020-01-03',' 2020-01-04',' 2020-01-06',' 2020-01-08',' 2020-01-09',' 2020-01-10',' 2020-01-11',' 2020-01-12',' 2020-01-13',' 2020-01-14',' 2020-01-15',' 2020-01-16',' 2020-01-17',' 2020-01-18',' 2020-01-19',' 2020-01-20',' 2020-01-21',' 2020-01-22',' 2020-01-23',' 2020-01-26',' 2020-01-27',' 2020-02-01',' 2020-02-02',' 2020-02-07',' 2020-02-08',' 2020-02-09',' 2020-02-10',' 2020-02-12',' 2020-02-13',' 2020-02-14',' 2020-02-15',' 2020-02-17',' 2020-02-18',' 2020-02-19',' 2020-02-20',' 2020-02-21',' 2020-02-22',' 2020-02-23',' 2020-02-24',' 2020-02-25',' 2020-02-26',' 2020-02-27',' 2020-02-28',' 2020-02-29',' 2020-03-01']\n",
    "sales = [18.0, 31.0, 20.0, 26.0, 63.0, 29.0, 24.0, 14.0, 30.0, 19.0, 35.0, 28.0, 33.0, 20.0, 20.0, 26.0, 27.0, 23.0, 23.0, 20.0, 1.0, 1.0, 5.0, 467.0, 17.0, 19.0, 15.0, 25.0, 16.0, 28.0, 37.0, 14.0, 30.0, 34.0, 19.0, 13.0, 13.0, 9.0, 1.0, 1.0, 75.0, 15.0, 31.0, 19.0, 13.0, 25.0, 1.0, 2.0, 2.0, 1.0, 1.0, 133.0, 50.0, 25.0, 32.0, 15.0, 14.0, 11.0, 40.0, 140.0, 19.0, 22.0, 15.0, 125.0]\n",
    "ave_demand = 35.05\n",
    "change_dts = None"
   ]
  },
  {
   "cell_type": "code",
   "execution_count": 18,
   "metadata": {},
   "outputs": [
    {
     "ename": "AttributeError",
     "evalue": "'str' object has no attribute 'date'",
     "output_type": "error",
     "traceback": [
      "\u001b[1;31m---------------------------------------------------------------------------\u001b[0m",
      "\u001b[1;31mAttributeError\u001b[0m                            Traceback (most recent call last)",
      "\u001b[1;32m<ipython-input-18-d1c6d07b7e5f>\u001b[0m in \u001b[0;36m<module>\u001b[1;34m()\u001b[0m\n\u001b[0;32m      1\u001b[0m \u001b[1;32mimport\u001b[0m \u001b[0mdatetime\u001b[0m\u001b[1;33m\u001b[0m\u001b[0m\n\u001b[0;32m      2\u001b[0m \u001b[0msale_end_date\u001b[0m \u001b[1;33m=\u001b[0m \u001b[1;34m'2019-03-01'\u001b[0m\u001b[1;33m\u001b[0m\u001b[0m\n\u001b[1;32m----> 3\u001b[1;33m \u001b[0mcal_L_spark\u001b[0m\u001b[1;33m(\u001b[0m\u001b[0mcreate_dt\u001b[0m\u001b[1;33m,\u001b[0m\u001b[0mvlt\u001b[0m\u001b[1;33m,\u001b[0m\u001b[0mbp\u001b[0m\u001b[1;33m,\u001b[0m\u001b[0musable_inv_qty\u001b[0m\u001b[1;33m,\u001b[0m\u001b[0musable_inv_qty_pbs\u001b[0m\u001b[1;33m,\u001b[0m\u001b[0mact_qty\u001b[0m\u001b[1;33m,\u001b[0m\u001b[0mplan_qty\u001b[0m\u001b[1;33m,\u001b[0m\u001b[0mdts\u001b[0m\u001b[1;33m,\u001b[0m\u001b[0msales\u001b[0m\u001b[1;33m,\u001b[0m\u001b[0mave_demand\u001b[0m\u001b[1;33m,\u001b[0m\u001b[0mchange_dts\u001b[0m\u001b[1;33m)\u001b[0m\u001b[1;33m\u001b[0m\u001b[0m\n\u001b[0m",
      "\u001b[1;32m<ipython-input-12-74d198e643b9>\u001b[0m in \u001b[0;36mcal_L_spark\u001b[1;34m(create_dt, vlt, bp, usable_inv_qty, usable_inv_qty_pbs, act_qty, plan_qty, dts, sales, ave_demand, change_dts)\u001b[0m\n\u001b[0;32m     18\u001b[0m     \u001b[0mL_post_inv\u001b[0m \u001b[1;33m=\u001b[0m \u001b[1;36m0\u001b[0m\u001b[1;33m\u001b[0m\u001b[0m\n\u001b[0;32m     19\u001b[0m     \u001b[0mL_post_inv_2\u001b[0m \u001b[1;33m=\u001b[0m \u001b[1;36m0\u001b[0m\u001b[1;33m\u001b[0m\u001b[0m\n\u001b[1;32m---> 20\u001b[1;33m     \u001b[0mperiod\u001b[0m \u001b[1;33m=\u001b[0m \u001b[0mmin\u001b[0m\u001b[1;33m(\u001b[0m\u001b[1;33m(\u001b[0m\u001b[0msale_end_date\u001b[0m\u001b[1;33m.\u001b[0m\u001b[0mdate\u001b[0m\u001b[1;33m(\u001b[0m\u001b[1;33m)\u001b[0m\u001b[1;33m-\u001b[0m\u001b[0mcreate_dt\u001b[0m\u001b[1;33m)\u001b[0m\u001b[1;33m.\u001b[0m\u001b[0mdays\u001b[0m\u001b[1;33m,\u001b[0m\u001b[1;36m150\u001b[0m\u001b[1;33m)\u001b[0m\u001b[1;33m\u001b[0m\u001b[0m\n\u001b[0m\u001b[0;32m     21\u001b[0m     \u001b[0mperiod\u001b[0m \u001b[1;33m=\u001b[0m \u001b[0mmax\u001b[0m\u001b[1;33m(\u001b[0m\u001b[0mperiod\u001b[0m\u001b[1;33m,\u001b[0m\u001b[1;36m0\u001b[0m\u001b[1;33m)\u001b[0m\u001b[1;33m\u001b[0m\u001b[0m\n\u001b[0;32m     22\u001b[0m     \u001b[1;32mfor\u001b[0m \u001b[0mdate\u001b[0m \u001b[1;32min\u001b[0m \u001b[0mpd\u001b[0m\u001b[1;33m.\u001b[0m\u001b[0mdate_range\u001b[0m\u001b[1;33m(\u001b[0m\u001b[0mstart\u001b[0m\u001b[1;33m=\u001b[0m\u001b[0mcreate_dt\u001b[0m\u001b[1;33m.\u001b[0m\u001b[0mstrftime\u001b[0m\u001b[1;33m(\u001b[0m\u001b[1;34m'%Y-%m-%d'\u001b[0m\u001b[1;33m)\u001b[0m\u001b[1;33m,\u001b[0m\u001b[0mperiods\u001b[0m \u001b[1;33m=\u001b[0m \u001b[0mperiod\u001b[0m\u001b[1;33m,\u001b[0m\u001b[0mclosed\u001b[0m\u001b[1;33m=\u001b[0m\u001b[1;34m'left'\u001b[0m\u001b[1;33m)\u001b[0m\u001b[1;33m:\u001b[0m\u001b[1;33m\u001b[0m\u001b[0m\n",
      "\u001b[1;31mAttributeError\u001b[0m: 'str' object has no attribute 'date'"
     ]
    }
   ],
   "source": [
    "import datetime\n",
    "sale_end_date = '2019-03-01'\n",
    "cal_L_spark(create_dt,vlt,bp,usable_inv_qty,usable_inv_qty_pbs,act_qty,plan_qty,dts,sales,ave_demand,change_dts)"
   ]
  },
  {
   "cell_type": "code",
   "execution_count": null,
   "metadata": {
    "collapsed": true
   },
   "outputs": [],
   "source": []
  },
  {
   "cell_type": "code",
   "execution_count": null,
   "metadata": {
    "collapsed": true
   },
   "outputs": [],
   "source": []
  }
 ],
 "metadata": {
  "kernelspec": {
   "display_name": "Python 3",
   "language": "python",
   "name": "python3"
  },
  "language_info": {
   "codemirror_mode": {
    "name": "ipython",
    "version": 3
   },
   "file_extension": ".py",
   "mimetype": "text/x-python",
   "name": "python",
   "nbconvert_exporter": "python",
   "pygments_lexer": "ipython3",
   "version": "3.6.1"
  }
 },
 "nbformat": 4,
 "nbformat_minor": 2
}
